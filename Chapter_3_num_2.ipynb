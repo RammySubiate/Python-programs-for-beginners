{
 "cells": [
  {
   "cell_type": "code",
   "execution_count": 2,
   "id": "d0b2817c-3c2b-4293-8aa0-7a9f480f7c93",
   "metadata": {},
   "outputs": [
    {
     "name": "stdout",
     "output_type": "stream",
     "text": [
      "This program calculates the cost per square inch of a circular pizza.\n",
      "\n"
     ]
    },
    {
     "name": "stdin",
     "output_type": "stream",
     "text": [
      "Enter the pizza's price:  j\n"
     ]
    },
    {
     "name": "stdout",
     "output_type": "stream",
     "text": [
      "Input is invalid. Enter a valid value.\n"
     ]
    },
    {
     "name": "stdin",
     "output_type": "stream",
     "text": [
      "Enter the pizza's price:  67\n",
      "Enter the pizza's diameter in inches:  h\n"
     ]
    },
    {
     "name": "stdout",
     "output_type": "stream",
     "text": [
      "Input is invalid. Enter a valid value.\n"
     ]
    },
    {
     "name": "stdin",
     "output_type": "stream",
     "text": [
      "Enter the pizza's diameter in inches:  78\n"
     ]
    },
    {
     "name": "stdout",
     "output_type": "stream",
     "text": [
      "The cost per square inch is 0.01\n"
     ]
    },
    {
     "name": "stdin",
     "output_type": "stream",
     "text": [
      "Do you wish to continue (yes/no):  h\n"
     ]
    },
    {
     "name": "stdout",
     "output_type": "stream",
     "text": [
      "Input is invalid. Enter either yes or no only.\n"
     ]
    },
    {
     "name": "stdin",
     "output_type": "stream",
     "text": [
      "Do you wish to continue (yes/no):  no\n"
     ]
    },
    {
     "name": "stdout",
     "output_type": "stream",
     "text": [
      "Thank you for using the program.\n"
     ]
    }
   ],
   "source": [
    "\"\"\"\n",
    "This program calculates the cost per square inch of a circular pizza.\n",
    "\"\"\"\n",
    "\n",
    "import math\n",
    "\n",
    "def is_input_valid(prompt, value_type = float):\n",
    "    \"\"\"\n",
    "    This callee function checks the validity of the user's input.\n",
    "    Returns:\n",
    "        float : Valid price and diameter input\n",
    "        \n",
    "    \"\"\"\n",
    "    while True:\n",
    "        try:\n",
    "            value = value_type(input(prompt))\n",
    "            return value\n",
    "        except ValueError:\n",
    "            print(\"Input is invalid. Enter a valid value.\")\n",
    "        \n",
    "\n",
    "def convert_diameter_to_radius(diameter):\n",
    "    \"\"\"\n",
    "    This callee function converts the diameter to radius.\n",
    "    Returns:\n",
    "        The radius of the circle\n",
    "    \"\"\"\n",
    "    radius = diameter / 2\n",
    "    return radius\n",
    "    \n",
    "def area_formula(radius):\n",
    "    \"\"\"\n",
    "    This callee function calculates the area of a circular pizza.\n",
    "    Argument:\n",
    "        radius(float): radius of the circle\n",
    "    \"\"\"\n",
    "    area = math.pi * radius ** 2\n",
    "    return area\n",
    "\n",
    "def cost_per_square_inch(price, area):\n",
    "    \"\"\"\n",
    "    This callee function calculates the cost per square inch of a circular pizza.\n",
    "    Arguments:\n",
    "        price (float): price of the circular pizza\n",
    "        area (float): area of the circular pizza\n",
    "    \"\"\"\n",
    "    cost_per_square_inch = price / area\n",
    "    return cost_per_square_inch\n",
    "\n",
    "def is_continue():\n",
    "    \"\"\"\n",
    "    This callee function asks the user if he/she wishes to continue.\n",
    "    Argument:\n",
    "        user_input (yes/no) : If the user provided a yes input, boolean True will return, False otherwise.\n",
    "    \"\"\"\n",
    "    while True:\n",
    "        user_input = input(\"Do you wish to continue (yes/no): \").strip().lower()\n",
    "        if user_input not in [\"yes\", \"no\"]:\n",
    "            print(\"Input is invalid. Enter either yes or no only.\")\n",
    "        else:\n",
    "            return user_input == \"yes\"\n",
    "\n",
    "def main():\n",
    "    print(\"This program calculates the cost per square inch of a circular pizza.\")\n",
    "    print()\n",
    "    \n",
    "    while True:\n",
    "        price = is_input_valid(\"Enter the pizza's price: \")\n",
    "        diameter = is_input_valid(\"Enter the pizza's diameter in inches: \")\n",
    "        radius = convert_diameter_to_radius(diameter)\n",
    "        area = area_formula(radius)\n",
    "        cost = round(cost_per_square_inch(price, area), 2)\n",
    "        \n",
    "    \n",
    "        print(f\"The cost per square inch is {cost}\")\n",
    "\n",
    "        if not is_continue():\n",
    "            break\n",
    "    print(\"Thank you for using the program.\")\n",
    "\n",
    "if __name__=='__main__':\n",
    "    main()\n",
    "\n",
    "\n",
    "\n",
    "\n",
    "\n"
   ]
  },
  {
   "cell_type": "code",
   "execution_count": null,
   "id": "7ed41339-4251-4850-83eb-7965628b53c4",
   "metadata": {},
   "outputs": [],
   "source": []
  }
 ],
 "metadata": {
  "kernelspec": {
   "display_name": "Python 3 (ipykernel)",
   "language": "python",
   "name": "python3"
  },
  "language_info": {
   "codemirror_mode": {
    "name": "ipython",
    "version": 3
   },
   "file_extension": ".py",
   "mimetype": "text/x-python",
   "name": "python",
   "nbconvert_exporter": "python",
   "pygments_lexer": "ipython3",
   "version": "3.12.4"
  }
 },
 "nbformat": 4,
 "nbformat_minor": 5
}
