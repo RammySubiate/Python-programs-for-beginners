{
 "cells": [
  {
   "cell_type": "markdown",
   "id": "998d1769-8775-4e7b-b5d3-e0dbe6ebbb52",
   "metadata": {},
   "source": [
    "PYTHON PROGRAMMING: AN INTRODUCTION TO COMPUTER SCIECE\n",
    "Chapter 3\n",
    "Programming Exercises 1"
   ]
  },
  {
   "cell_type": "code",
   "execution_count": null,
   "id": "7d8b4cec-3c05-4b58-bc07-77f540568433",
   "metadata": {},
   "outputs": [
    {
     "name": "stdout",
     "output_type": "stream",
     "text": [
      "This program calculates the volume and area of a sphere.\n",
      "\n"
     ]
    }
   ],
   "source": [
    "\"\"\"\n",
    "This program calculates the volume and area of a sphere.\n",
    "\"\"\"\n",
    "import math\n",
    "\n",
    "# This function checks whether the user input is valid.\n",
    "def is_input_valid():\n",
    "    while True:\n",
    "        radius = input(\"Enter the radius of a sphere: \")\n",
    "        try:\n",
    "            # If the value the user provided is not a number and cannot be converted to float, \n",
    "            # a message will prompt like \"The value is invalid\" and will ask the user to enter again\n",
    "            radius = float(radius)\n",
    "            return radius\n",
    "        except ValueError:\n",
    "            print(\"The value is invalid. Enter a whole or decimal number.\")\n",
    "            enter_to_continue = input(\"Please enter to continue...\")\n",
    "# This function calculates the volume of a sphere\n",
    "def volume_formula(radius):\n",
    "    volume = 4 / 3 * math.pi * radius ** 3\n",
    "    return volume\n",
    "# This function calculates the area of a sphere\n",
    "def area_formula(radius):\n",
    "    area = 4 * math.pi * radius ** 2\n",
    "    return area\n",
    "# This function asks the user if he/she wishes to continue using the program\n",
    "def is_continue():\n",
    "    user_choice = input(\"Do you wish to continue (yes/no): \").strip().lower()\n",
    "    # If the user provided a \"yes\" input, a \"True\" boolean will be returned to the caller function\n",
    "    # if the user provided a \"no\" ipout, a \"False\" boolean will be returned to the caller function\n",
    "    return user_choice == \"yes\"\n",
    "\n",
    "def main():\n",
    "    print(\"This program calculates the volume and area of a sphere.\")\n",
    "    print()\n",
    "    while True:\n",
    "        radius = is_input_valid()\n",
    "        volume = round(volume_formula(radius), 2)\n",
    "        area = round(area_formula(radius), 2)\n",
    "    \n",
    "        print(f\"The volume of the sphere is {volume} cubic units.\")\n",
    "        print(f\"The area of the sphere is {area} square units.\")\n",
    "\n",
    "        # If the callee function \"is_continue\" returns a \"True\" output, the function will NOT be executed due to the logical operator \"not\"\n",
    "        # If the callee function \"is_continue\" returns a \"False\" output, the function will be executed due to the logical operator \"not\"\n",
    "        if not is_continue():\n",
    "            break\n",
    "    print(\"Thank you for using the program.\")\n",
    "        \n",
    "            \n",
    "if __name__==\"__main__\":\n",
    "    main()"
   ]
  },
  {
   "cell_type": "code",
   "execution_count": null,
   "id": "e215b4a2-13b2-480a-bac2-af50139ce9b4",
   "metadata": {},
   "outputs": [],
   "source": []
  },
  {
   "cell_type": "code",
   "execution_count": null,
   "id": "7170a9cf-2b1d-45e2-a291-bb92c5a6fdfd",
   "metadata": {},
   "outputs": [],
   "source": []
  },
  {
   "cell_type": "code",
   "execution_count": null,
   "id": "d247492d-57de-4fb4-8d1c-c340175605bf",
   "metadata": {},
   "outputs": [],
   "source": []
  },
  {
   "cell_type": "code",
   "execution_count": null,
   "id": "7169a939-1c9b-4c5c-b59b-0dc8f19a3ed2",
   "metadata": {},
   "outputs": [],
   "source": []
  },
  {
   "cell_type": "code",
   "execution_count": null,
   "id": "91d8e75d-5fd8-4abb-a33a-b0d6dc4c81b5",
   "metadata": {},
   "outputs": [],
   "source": []
  },
  {
   "cell_type": "code",
   "execution_count": null,
   "id": "30eb6017-88c7-4c7b-bc26-0f4df99d6788",
   "metadata": {},
   "outputs": [],
   "source": []
  },
  {
   "cell_type": "code",
   "execution_count": null,
   "id": "23e56ca9-9e35-4a36-b100-b017ddd6f27f",
   "metadata": {},
   "outputs": [],
   "source": []
  },
  {
   "cell_type": "code",
   "execution_count": null,
   "id": "cc068997-7e46-4b00-bb90-b39296449438",
   "metadata": {},
   "outputs": [],
   "source": []
  },
  {
   "cell_type": "code",
   "execution_count": null,
   "id": "d9e05175-abae-406c-94f0-661d0e848c61",
   "metadata": {},
   "outputs": [],
   "source": []
  },
  {
   "cell_type": "code",
   "execution_count": null,
   "id": "0b4e09b4-e69c-4b36-9ded-19b43f2973fc",
   "metadata": {},
   "outputs": [],
   "source": []
  },
  {
   "cell_type": "code",
   "execution_count": null,
   "id": "d61cf42d-6196-416f-a613-46d448106f59",
   "metadata": {},
   "outputs": [],
   "source": []
  },
  {
   "cell_type": "code",
   "execution_count": null,
   "id": "646ce24f-5d22-44d1-9ef4-18c75154df89",
   "metadata": {},
   "outputs": [],
   "source": []
  },
  {
   "cell_type": "code",
   "execution_count": null,
   "id": "77020183-f587-468f-b182-98b6105b352a",
   "metadata": {},
   "outputs": [],
   "source": []
  },
  {
   "cell_type": "code",
   "execution_count": null,
   "id": "f7caa9a8-35f4-4a03-be10-50f353b338d6",
   "metadata": {},
   "outputs": [],
   "source": []
  },
  {
   "cell_type": "code",
   "execution_count": null,
   "id": "a326be61-419d-4d17-b92c-c06558b2f98a",
   "metadata": {},
   "outputs": [],
   "source": []
  },
  {
   "cell_type": "code",
   "execution_count": null,
   "id": "9e04aee2-a630-422b-b026-e9b39952f448",
   "metadata": {},
   "outputs": [],
   "source": []
  },
  {
   "cell_type": "code",
   "execution_count": null,
   "id": "4ed75886-41e8-4130-ae57-8e93f49a36d3",
   "metadata": {},
   "outputs": [],
   "source": []
  },
  {
   "cell_type": "code",
   "execution_count": null,
   "id": "635576b4-0f1f-416f-ace3-3c49504d4dd5",
   "metadata": {},
   "outputs": [],
   "source": []
  }
 ],
 "metadata": {
  "kernelspec": {
   "display_name": "Python 3 (ipykernel)",
   "language": "python",
   "name": "python3"
  },
  "language_info": {
   "codemirror_mode": {
    "name": "ipython",
    "version": 3
   },
   "file_extension": ".py",
   "mimetype": "text/x-python",
   "name": "python",
   "nbconvert_exporter": "python",
   "pygments_lexer": "ipython3",
   "version": "3.12.4"
  }
 },
 "nbformat": 4,
 "nbformat_minor": 5
}
